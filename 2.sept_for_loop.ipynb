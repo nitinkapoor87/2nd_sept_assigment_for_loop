{
 "cells": [
  {
   "cell_type": "markdown",
   "id": "9d8e0fe3-c19a-432e-9dba-fdf234b63867",
   "metadata": {
    "tags": []
   },
   "source": [
    "# 1. Write a Python program to print the numbers from 1 to 10 using a `for` loop.\n"
   ]
  },
  {
   "cell_type": "code",
   "execution_count": 1,
   "id": "64c7763b-5abe-4c66-9de5-7adeeae024b0",
   "metadata": {},
   "outputs": [
    {
     "name": "stdout",
     "output_type": "stream",
     "text": [
      "1\n",
      "2\n",
      "3\n",
      "4\n",
      "5\n",
      "6\n",
      "7\n",
      "8\n",
      "9\n",
      "10\n"
     ]
    }
   ],
   "source": [
    "a=range(1,11)\n",
    "\n",
    "for i in a:\n",
    "    print(i)"
   ]
  },
  {
   "cell_type": "markdown",
   "id": "35e27503-287c-44cf-9f32-9a0ab20612e3",
   "metadata": {},
   "source": [
    "# 2. Create a program that calculates the sum of all numbers in a list using a `for` loop.\n"
   ]
  },
  {
   "cell_type": "code",
   "execution_count": 10,
   "id": "1c5f357b-49d4-47f8-8337-32c0d745b79c",
   "metadata": {},
   "outputs": [
    {
     "name": "stdout",
     "output_type": "stream",
     "text": [
      "55\n"
     ]
    }
   ],
   "source": [
    "a=[1,2,3,4,5,6,7,8,9,10]\n",
    "b=0\n",
    "for i in a:\n",
    "    b=b+i\n",
    "print(b)"
   ]
  },
  {
   "cell_type": "markdown",
   "id": "3bd706ae-b551-4e46-a756-fce0e7542069",
   "metadata": {},
   "source": [
    "# 3. Write a program to print the characters of a string in reverse order using a `for` loop.\n"
   ]
  },
  {
   "cell_type": "code",
   "execution_count": 8,
   "id": "5d0d9d9f-2db2-4715-8c26-06ae0b026d36",
   "metadata": {},
   "outputs": [
    {
     "name": "stdout",
     "output_type": "stream",
     "text": [
      "sllikswp\n"
     ]
    }
   ],
   "source": [
    "a='pwskills'\n",
    "b=''\n",
    "\n",
    "for i in reversed(a):\n",
    "    b=b+i\n",
    "print(b)"
   ]
  },
  {
   "cell_type": "markdown",
   "id": "911d73ed-1fa4-4ca4-8ddc-e770f5968e33",
   "metadata": {},
   "source": [
    "# 4. Develop a program that finds the factorial of a given number using a `for` loop.\n"
   ]
  },
  {
   "cell_type": "code",
   "execution_count": 39,
   "id": "256f56fe-f54c-4304-8455-431b079850d5",
   "metadata": {},
   "outputs": [
    {
     "name": "stdin",
     "output_type": "stream",
     "text": [
      " 7\n"
     ]
    },
    {
     "name": "stdout",
     "output_type": "stream",
     "text": [
      "5040\n"
     ]
    }
   ],
   "source": [
    "a=list(range(1,int(input())+1))\n",
    "b=1\n",
    "for i in a:\n",
    "    b=b*i\n",
    "print(b)"
   ]
  },
  {
   "cell_type": "markdown",
   "id": "4d4b858f-60bf-4b98-899d-fdecacfff4e4",
   "metadata": {},
   "source": [
    "# 5. Create a program to print the multiplication table of a given number using a `for` loop.\n"
   ]
  },
  {
   "cell_type": "code",
   "execution_count": 38,
   "id": "1945b6cd-4cea-47bb-8593-4dfc392f7458",
   "metadata": {},
   "outputs": [
    {
     "name": "stdin",
     "output_type": "stream",
     "text": [
      "enter number for which table is required 13\n"
     ]
    },
    {
     "name": "stdout",
     "output_type": "stream",
     "text": [
      "13 * 1 = 13\n",
      "13 * 2 = 26\n",
      "13 * 3 = 39\n",
      "13 * 4 = 52\n",
      "13 * 5 = 65\n",
      "13 * 6 = 78\n",
      "13 * 7 = 91\n",
      "13 * 8 = 104\n",
      "13 * 9 = 117\n",
      "13 * 10 = 130\n"
     ]
    }
   ],
   "source": [
    "a=int(input('enter number for which table is required'))\n",
    "b=range(1,11)\n",
    "\n",
    "for i in b:\n",
    "    c=i*a\n",
    "    print(a,'*',i,'=',c)"
   ]
  },
  {
   "cell_type": "markdown",
   "id": "ed9ae1e9-62b7-4926-a359-5e1cf63f06e7",
   "metadata": {},
   "source": [
    "# 6. Write a program that counts the number of even and odd numbers in a list using a `for` loop."
   ]
  },
  {
   "cell_type": "code",
   "execution_count": 47,
   "id": "0f95ad2d-1afe-4244-ba20-a2858142a286",
   "metadata": {},
   "outputs": [
    {
     "name": "stdout",
     "output_type": "stream",
     "text": [
      "total even numbers 5\n",
      "total odd number 6\n"
     ]
    }
   ],
   "source": [
    "a=[1,2,3,4,5,7,8,9,0,10,16,20,111]\n",
    "b=[]\n",
    "\n",
    "for i in a:\n",
    "    if i%2==0:\n",
    "        b.append(i)\n",
    "print('total even numbers',b.index(b[-1])-1)\n",
    "if i!=0:\n",
    "        b.append(i)\n",
    "        print('total odd number',b.index(b[-1])-1)"
   ]
  },
  {
   "cell_type": "markdown",
   "id": "c6e9a41a-c495-4082-ae3b-d375f8dc3e34",
   "metadata": {},
   "source": [
    "# 7. Develop a program that prints the squares of numbers from 1 to 5 using a `for` loop.\n"
   ]
  },
  {
   "cell_type": "code",
   "execution_count": 8,
   "id": "edbe3a95-fe16-4fa0-a76e-a7e72f2a5bde",
   "metadata": {},
   "outputs": [
    {
     "name": "stdout",
     "output_type": "stream",
     "text": [
      "[1, 4, 9, 16, 25]\n"
     ]
    }
   ],
   "source": [
    "a=list(range(1,6))\n",
    "b=[]\n",
    "for i in a:\n",
    "    b.append(i**2)\n",
    "print(b)"
   ]
  },
  {
   "cell_type": "markdown",
   "id": "5c3088fb-cc67-45ce-94be-78fecb48734f",
   "metadata": {},
   "source": [
    "# 8. Create a program to find the length of a string without using the `len()` function.\n"
   ]
  },
  {
   "cell_type": "code",
   "execution_count": 38,
   "id": "41059646-b2cf-4853-9b03-7d9a472b0563",
   "metadata": {},
   "outputs": [
    {
     "name": "stdout",
     "output_type": "stream",
     "text": [
      "9\n"
     ]
    }
   ],
   "source": [
    "a='pswskills'\n",
    "b=0\n",
    "\n",
    "for i in a:\n",
    "    b=b+1\n",
    "print(b)"
   ]
  },
  {
   "cell_type": "markdown",
   "id": "3e14ffdb-f58e-40c0-bfa2-a82665f37adb",
   "metadata": {},
   "source": [
    "# 9. Write a program that calculates the average of a list of numbers using a `for` loop.\n"
   ]
  },
  {
   "cell_type": "code",
   "execution_count": 22,
   "id": "ff291647-5d7d-490a-aa2f-9f4db0b4e15c",
   "metadata": {},
   "outputs": [
    {
     "name": "stdout",
     "output_type": "stream",
     "text": [
      "5.5\n"
     ]
    }
   ],
   "source": [
    "a=[1,2,3,4,5,6,7,8,9,10]\n",
    "b=0\n",
    "\n",
    "for i in a:\n",
    "    b=b+i/len(a)\n",
    "print(b)"
   ]
  },
  {
   "cell_type": "markdown",
   "id": "6fe49767-78ba-4198-adfb-f2790cee8714",
   "metadata": {},
   "source": [
    "# 10. Develop a program that prints the first `n` Fibonacci numbers using a `for` loop.\n"
   ]
  },
  {
   "cell_type": "code",
   "execution_count": 49,
   "id": "b9489872-7604-4a1a-b2f1-692ccc4f13d4",
   "metadata": {},
   "outputs": [
    {
     "name": "stdin",
     "output_type": "stream",
     "text": [
      "enter number of fibonacchi required 15\n"
     ]
    },
    {
     "name": "stdout",
     "output_type": "stream",
     "text": [
      "[0, 1, 1, 2, 3, 5, 8, 13, 21, 34, 55, 89, 144, 233, 377]\n"
     ]
    }
   ],
   "source": [
    "f=int(input('enter number of fibonacchi required'))\n",
    "a=0\n",
    "b=1\n",
    "c=[]\n",
    "\n",
    "for i in range(f):\n",
    "    c.append(a)\n",
    "    a,b=b,a+b\n",
    "print(c)"
   ]
  },
  {
   "cell_type": "markdown",
   "id": "d5f7dd98-ccdb-4a68-af44-fdb51140599e",
   "metadata": {},
   "source": [
    "# 11. Write a program to check if a given list contains any duplicates using a `for` loop.\n"
   ]
  },
  {
   "cell_type": "code",
   "execution_count": 60,
   "id": "2cbbe565-2921-4568-9abb-70af919ec15c",
   "metadata": {},
   "outputs": [
    {
     "name": "stdout",
     "output_type": "stream",
     "text": [
      "{1, 2, 3, 4, 5, 8}\n"
     ]
    }
   ],
   "source": [
    "a=[1,2,3,5,7,4,8,4,3,1,5,8,3,2,6,2,4,9]\n",
    "b=[]\n",
    "c=[]\n",
    "\n",
    "for i in a:\n",
    "    if i not in b:\n",
    "        b.append(i)\n",
    "    else:\n",
    "        c.append(i)\n",
    "print(set(c))"
   ]
  },
  {
   "cell_type": "markdown",
   "id": "c60fe52f-fb31-4447-94f0-e72902249c72",
   "metadata": {},
   "source": [
    "# 12. Create a program that prints the prime numbers in a given range using a `for` loop.\n"
   ]
  },
  {
   "cell_type": "code",
   "execution_count": 26,
   "id": "7ab569e0-0c33-40c4-8e28-67c20bb309f4",
   "metadata": {},
   "outputs": [
    {
     "name": "stdin",
     "output_type": "stream",
     "text": [
      "Enter the number till which prime numbers are required:  50\n"
     ]
    },
    {
     "name": "stdout",
     "output_type": "stream",
     "text": [
      "[2, 3, 5, 7, 11, 13, 17, 19, 23, 29, 31, 37, 41, 43, 47]\n"
     ]
    }
   ],
   "source": [
    "a = int(input('Enter the number till which prime numbers are required: '))\n",
    "b = []\n",
    "\n",
    "for i in range(2, a):\n",
    "    for j in range(2, i):\n",
    "        if i % j ==0:\n",
    "            break\n",
    "    else:\n",
    "        b.append(i)\n",
    "\n",
    "print(b)"
   ]
  },
  {
   "cell_type": "markdown",
   "id": "ff0ae886-84ff-457c-ad0f-a4e89f5344e5",
   "metadata": {},
   "source": [
    "# 13. Develop a program that counts the number of vowels in a string using a `for` loop.\n"
   ]
  },
  {
   "cell_type": "code",
   "execution_count": 23,
   "id": "d4bb248c-00f5-4653-8ab3-71f75e8578c7",
   "metadata": {},
   "outputs": [
    {
     "name": "stdin",
     "output_type": "stream",
     "text": [
      " we are learning python in pwskills\n"
     ]
    },
    {
     "name": "stdout",
     "output_type": "stream",
     "text": [
      "number of vowels are 9\n"
     ]
    }
   ],
   "source": [
    "a=input()\n",
    "b=[]\n",
    "for i in a.split():\n",
    "    b.append(i.count('a')+i.count('e')+i.count('i')+i.count('o')+i.count('u'))\n",
    "print('number of vowels are',sum(b))"
   ]
  },
  {
   "cell_type": "markdown",
   "id": "35422fdc-4d89-4d5c-b595-0a2b5ac212d2",
   "metadata": {},
   "source": [
    "# 14. Write a program to find the maximum element in a 2D list using a nested `for` loop"
   ]
  },
  {
   "cell_type": "code",
   "execution_count": null,
   "id": "811eb871-e1d6-434f-9a59-3e0fe98708b9",
   "metadata": {},
   "outputs": [],
   "source": []
  },
  {
   "cell_type": "markdown",
   "id": "087048db-a70b-43cd-9217-685aa4ff5041",
   "metadata": {},
   "source": [
    "# 15. Create a program that removes all occurrences of a specific element from a list using a `for` loop.\n"
   ]
  },
  {
   "cell_type": "code",
   "execution_count": 26,
   "id": "fedf083c-a102-49f5-ba25-ea491295d230",
   "metadata": {},
   "outputs": [
    {
     "name": "stdout",
     "output_type": "stream",
     "text": [
      "['pw', True]\n"
     ]
    }
   ],
   "source": [
    "a=[1,3,5,'pw',True]\n",
    "b=[]\n",
    "c=[]\n",
    "\n",
    "for i in a:\n",
    "    if type(i)==int:\n",
    "        b.append(i)\n",
    "    else:\n",
    "        c.append(i)\n",
    "print(c)"
   ]
  },
  {
   "cell_type": "markdown",
   "id": "19220b91-094a-4051-b95b-57307e13f7c6",
   "metadata": {},
   "source": [
    "# 16. Develop a program that generates a multiplication table for numbers from 1 to 5 using a nested `for` loop"
   ]
  },
  {
   "cell_type": "code",
   "execution_count": 55,
   "id": "e34b5b81-bbed-496b-a3ee-6a2a098484e1",
   "metadata": {},
   "outputs": [
    {
     "name": "stdout",
     "output_type": "stream",
     "text": [
      "1 * 1 = 1\n",
      "1 * 2 = 2\n",
      "1 * 3 = 3\n",
      "1 * 4 = 4\n",
      "1 * 5 = 5\n",
      "1 * 6 = 6\n",
      "1 * 7 = 7\n",
      "1 * 8 = 8\n",
      "1 * 9 = 9\n",
      "1 * 10 = 10\n",
      "2 * 1 = 2\n",
      "2 * 2 = 4\n",
      "2 * 3 = 6\n",
      "2 * 4 = 8\n",
      "2 * 5 = 10\n",
      "2 * 6 = 12\n",
      "2 * 7 = 14\n",
      "2 * 8 = 16\n",
      "2 * 9 = 18\n",
      "2 * 10 = 20\n",
      "3 * 1 = 3\n",
      "3 * 2 = 6\n",
      "3 * 3 = 9\n",
      "3 * 4 = 12\n",
      "3 * 5 = 15\n",
      "3 * 6 = 18\n",
      "3 * 7 = 21\n",
      "3 * 8 = 24\n",
      "3 * 9 = 27\n",
      "3 * 10 = 30\n",
      "4 * 1 = 4\n",
      "4 * 2 = 8\n",
      "4 * 3 = 12\n",
      "4 * 4 = 16\n",
      "4 * 5 = 20\n",
      "4 * 6 = 24\n",
      "4 * 7 = 28\n",
      "4 * 8 = 32\n",
      "4 * 9 = 36\n",
      "4 * 10 = 40\n",
      "5 * 1 = 5\n",
      "5 * 2 = 10\n",
      "5 * 3 = 15\n",
      "5 * 4 = 20\n",
      "5 * 5 = 25\n",
      "5 * 6 = 30\n",
      "5 * 7 = 35\n",
      "5 * 8 = 40\n",
      "5 * 9 = 45\n",
      "5 * 10 = 50\n"
     ]
    }
   ],
   "source": [
    "a=range(1,6)\n",
    "b=range(1,11)\n",
    "\n",
    "for i in a:\n",
    "    for j in b:\n",
    "        c=i*j\n",
    "        print(i,'*',j,'=',c)"
   ]
  },
  {
   "cell_type": "markdown",
   "id": "4920daa9-212e-4e84-a3c1-8c6e109ae28e",
   "metadata": {},
   "source": [
    "# 17. Write a program that converts a list of Fahrenheit temperatures to Celsius using a `for` loop"
   ]
  },
  {
   "cell_type": "code",
   "execution_count": 68,
   "id": "c88d60d7-5059-416a-b380-5b778d4f09d6",
   "metadata": {},
   "outputs": [
    {
     "name": "stdout",
     "output_type": "stream",
     "text": [
      "[37.0, 0.0, 37.22222222222222, 38.888888888888886]\n"
     ]
    }
   ],
   "source": [
    "f=[98.6,32,99,102]\n",
    "c=[]\n",
    "\n",
    "for i in f:\n",
    "    j=(i - 32) * 5/9\n",
    "    c.append(j)\n",
    "print(c)"
   ]
  },
  {
   "cell_type": "markdown",
   "id": "7e078603-f4fd-433d-b90a-12e61f70b768",
   "metadata": {},
   "source": [
    "# 18. Create a program to print the common elements from two lists using a `for` loop"
   ]
  },
  {
   "cell_type": "code",
   "execution_count": 4,
   "id": "b4aa2c73-3914-48cb-8ddf-0e0b4b286cb7",
   "metadata": {},
   "outputs": [
    {
     "name": "stdout",
     "output_type": "stream",
     "text": [
      "[3, 4, 'b', 'c']\n"
     ]
    }
   ],
   "source": [
    "l1=[1,2,3,4,'a','b','c']\n",
    "l2=[3,4,'b','c']\n",
    "common=[]\n",
    "\n",
    "for i in l2:\n",
    "    for j in l1:\n",
    "        if i==j:\n",
    "            common.append(j)\n",
    "print(common)"
   ]
  },
  {
   "cell_type": "markdown",
   "id": "bd3e78f8-1e43-47e9-9f7b-c2b6f491e877",
   "metadata": {},
   "source": [
    "# 19. Develop a program that prints the pattern of right-angled triangles using a `for` loop. Use ‘*’ to draw the pattern\n"
   ]
  },
  {
   "cell_type": "code",
   "execution_count": 12,
   "id": "ae49769a-5617-4b08-bf1e-c390a29b14f7",
   "metadata": {},
   "outputs": [
    {
     "name": "stdout",
     "output_type": "stream",
     "text": [
      "['*']\n",
      "['*', '*']\n",
      "['*', '*', '*']\n",
      "['*', '*', '*', '*']\n",
      "['*', '*', '*', '*', '*']\n",
      "['*', '*', '*', '*', '*', '*']\n",
      "['*', '*', '*', '*', '*', '*', '*']\n",
      "['*', '*', '*', '*', '*', '*', '*', '*']\n",
      "['*', '*', '*', '*', '*', '*', '*', '*', '*']\n",
      "['*', '*', '*', '*', '*', '*', '*', '*', '*', '*']\n",
      "['*', '*', '*', '*', '*', '*', '*', '*', '*', '*', '*']\n",
      "['*', '*', '*', '*', '*', '*', '*', '*', '*', '*', '*', '*']\n",
      "['*', '*', '*', '*', '*', '*', '*', '*', '*', '*', '*', '*', '*']\n"
     ]
    }
   ],
   "source": [
    "a='*************'\n",
    "b=[]\n",
    "\n",
    "for i in a:\n",
    "    b.append(i)\n",
    "    print(b)\n",
    "            "
   ]
  },
  {
   "cell_type": "markdown",
   "id": "3f779772-46ed-496d-976d-6b3582f1c714",
   "metadata": {},
   "source": [
    "# 20. Write a program to find the greatest common divisor (GCD) of two numbers using a `for` loop"
   ]
  },
  {
   "cell_type": "code",
   "execution_count": 22,
   "id": "de6a81d8-2ee6-42f8-86c4-37a1530bb77a",
   "metadata": {},
   "outputs": [
    {
     "name": "stdin",
     "output_type": "stream",
     "text": [
      "enter 1st number 5\n",
      "enter 2nd number 10\n"
     ]
    },
    {
     "name": "stdout",
     "output_type": "stream",
     "text": [
      "5\n"
     ]
    }
   ],
   "source": [
    "a=int(input('enter 1st number'))\n",
    "b=int(input('enter 2nd number'))\n",
    "gcd=[]\n",
    "\n",
    "for i in range(1,min(a,b)+1):\n",
    "    if a%i==0 and b%i==0:\n",
    "        gcd.append(i)\n",
    "print(max(gcd))"
   ]
  },
  {
   "cell_type": "markdown",
   "id": "fd583b65-4dc9-46f5-8b38-f01254db229f",
   "metadata": {},
   "source": [
    "# 21. Create a program that calculates the sum of the digits of numbers in a list using a list comprehension"
   ]
  },
  {
   "cell_type": "code",
   "execution_count": 12,
   "id": "fe87adf3-b267-486b-9c8f-e6db026940b4",
   "metadata": {},
   "outputs": [
    {
     "data": {
      "text/plain": [
       "[39]"
      ]
     },
     "execution_count": 12,
     "metadata": {},
     "output_type": "execute_result"
    }
   ],
   "source": [
    "a=[2,5,2,6,9,3,5,7]\n",
    "\n",
    "[sum(a)]"
   ]
  },
  {
   "cell_type": "markdown",
   "id": "302d9a9d-ab1b-45c7-890a-10ad9d5082bc",
   "metadata": {},
   "source": [
    "# 22. Write a program to find the prime factors of a given number using a `for` loop and list comprehension.\n"
   ]
  },
  {
   "cell_type": "code",
   "execution_count": 27,
   "id": "d69e092b-2ee0-4d8a-92c7-1874b91cb8be",
   "metadata": {},
   "outputs": [
    {
     "name": "stdin",
     "output_type": "stream",
     "text": [
      "enter number to check prime number 11\n"
     ]
    },
    {
     "name": "stdout",
     "output_type": "stream",
     "text": [
      "prime number\n"
     ]
    }
   ],
   "source": [
    "a=int(input('enter number to check prime number'))\n",
    "for i in range(2,a-1):\n",
    "    if a%i==0:\n",
    "        print ('not prime number')\n",
    "        break\n",
    "else:\n",
    "    print('prime number')"
   ]
  },
  {
   "cell_type": "markdown",
   "id": "9a346824-9961-4c63-ad64-8c747416fe39",
   "metadata": {},
   "source": [
    "# 23. Develop a program that extracts unique elements from a list and stores them in a new list using a list comprehension.\n"
   ]
  },
  {
   "cell_type": "code",
   "execution_count": 8,
   "id": "d85b83b2-c9e1-4cf2-8453-46129f06f3e4",
   "metadata": {},
   "outputs": [
    {
     "data": {
      "text/plain": [
       "[6, 9, 80, 222]"
      ]
     },
     "execution_count": 8,
     "metadata": {},
     "output_type": "execute_result"
    }
   ],
   "source": [
    "a=[2,5,2,6,9,3,5,7,3,5,7,3,80,4,4,2,222,4,4]\n",
    "\n",
    "[i for i in a if a.count(i) == 1]"
   ]
  },
  {
   "cell_type": "markdown",
   "id": "b538a245-c005-4722-8e70-d20dc6344f72",
   "metadata": {},
   "source": [
    "# 24. Create a program that generates a list of all palindromic numbers up to a specified limit using a list comprehension.\n"
   ]
  },
  {
   "cell_type": "code",
   "execution_count": 77,
   "id": "a8bd96eb-4834-4446-965c-d97d04089123",
   "metadata": {},
   "outputs": [
    {
     "name": "stdin",
     "output_type": "stream",
     "text": [
      "enter start of limit to check palindromic number 1000\n",
      "enter end limit 5000\n"
     ]
    },
    {
     "data": {
      "text/plain": [
       "[1001,\n",
       " 1111,\n",
       " 1221,\n",
       " 1331,\n",
       " 1441,\n",
       " 1551,\n",
       " 1661,\n",
       " 1771,\n",
       " 1881,\n",
       " 1991,\n",
       " 2002,\n",
       " 2112,\n",
       " 2222,\n",
       " 2332,\n",
       " 2442,\n",
       " 2552,\n",
       " 2662,\n",
       " 2772,\n",
       " 2882,\n",
       " 2992,\n",
       " 3003,\n",
       " 3113,\n",
       " 3223,\n",
       " 3333,\n",
       " 3443,\n",
       " 3553,\n",
       " 3663,\n",
       " 3773,\n",
       " 3883,\n",
       " 3993,\n",
       " 4004,\n",
       " 4114,\n",
       " 4224,\n",
       " 4334,\n",
       " 4444,\n",
       " 4554,\n",
       " 4664,\n",
       " 4774,\n",
       " 4884,\n",
       " 4994]"
      ]
     },
     "execution_count": 77,
     "metadata": {},
     "output_type": "execute_result"
    }
   ],
   "source": [
    "a=int(input('enter start of limit to check palindromic number'))\n",
    "b=int(input('enter end limit'))\n",
    "\n",
    "[i for i in range(a,b+1) if str(i)==str(i)[::-1]]"
   ]
  },
  {
   "cell_type": "markdown",
   "id": "b73b46d2-01c0-4060-ae35-e0933b761174",
   "metadata": {},
   "source": [
    "# 25. Write a program to flatten a nested list using list comprehension"
   ]
  },
  {
   "cell_type": "code",
   "execution_count": 47,
   "id": "8151ae21-12d4-4f26-a260-03604f11639c",
   "metadata": {},
   "outputs": [
    {
     "name": "stdout",
     "output_type": "stream",
     "text": [
      "[1, 4, 5, 7, 45, 6, 7]\n"
     ]
    }
   ],
   "source": [
    "l=[[1,4,5,7],45,6,7]\n",
    "b=[]\n",
    "\n",
    "for i in l:\n",
    "    if type(i)==list:\n",
    "        for j in i:\n",
    "            b.append(j)\n",
    "    else:\n",
    "        b.append(i)\n",
    "print(b)"
   ]
  },
  {
   "cell_type": "markdown",
   "id": "258509c1-38be-4690-a029-1c2bc187a536",
   "metadata": {},
   "source": [
    "# 26. Develop a program that computes the sum of even and odd numbers in a list separately using list comprehension.\n"
   ]
  },
  {
   "cell_type": "code",
   "execution_count": 45,
   "id": "a9083af4-11c6-4ec1-bc9d-928cdad012e1",
   "metadata": {},
   "outputs": [
    {
     "name": "stdout",
     "output_type": "stream",
     "text": [
      "722\n",
      "16\n"
     ]
    }
   ],
   "source": [
    "l=[2,4,6,3,4,676,8,3,4,6,3,4,6,7,2]\n",
    "\n",
    "e=[i for i in l if i%2==0]\n",
    "print(sum(e))\n",
    "\n",
    "o=[i for i in l if i%2!=0]\n",
    "print(sum(o))"
   ]
  },
  {
   "cell_type": "markdown",
   "id": "5d4af460-5b69-4db0-a0c5-04fb55e2c897",
   "metadata": {},
   "source": [
    "# 27. Create a program that generates a list of squares of odd numbers between 1 and 10 using list comprehension.\n"
   ]
  },
  {
   "cell_type": "code",
   "execution_count": 46,
   "id": "e321f792-2e44-4adf-8caa-24403d077446",
   "metadata": {},
   "outputs": [
    {
     "data": {
      "text/plain": [
       "[1, 9, 25, 49, 81]"
      ]
     },
     "execution_count": 46,
     "metadata": {},
     "output_type": "execute_result"
    }
   ],
   "source": [
    "[i**2 for i in range(1,11) if i%2!=0]"
   ]
  },
  {
   "cell_type": "markdown",
   "id": "f8d71917-6819-46a6-a1d5-d0d6ccd32433",
   "metadata": {},
   "source": [
    "# 28. Write a program that combines two lists into a dictionary using list comprehension.\n"
   ]
  },
  {
   "cell_type": "code",
   "execution_count": 8,
   "id": "b49c484e-8313-453f-859b-d4168f4a204a",
   "metadata": {},
   "outputs": [
    {
     "data": {
      "text/plain": [
       "{'name': 'pwskills', 'age': 25, 'city': 'delhi'}"
      ]
     },
     "execution_count": 8,
     "metadata": {},
     "output_type": "execute_result"
    }
   ],
   "source": [
    "keys = [\"name\", \"age\", \"city\"]\n",
    "values = [\"pwskills\", 25, \"delhi\"]\n",
    "\n",
    "{keys[i]: values[i] for i in range(min(len(keys),len(values)))}"
   ]
  },
  {
   "cell_type": "markdown",
   "id": "c66905a6-0fe5-477e-aac8-ad9b0e150601",
   "metadata": {},
   "source": [
    "# 29. Develop a program that extracts the vowels from a string and stores them in a list using list comprehension"
   ]
  },
  {
   "cell_type": "code",
   "execution_count": 15,
   "id": "fd9c84fc-260e-416b-b835-0ecbb3272341",
   "metadata": {},
   "outputs": [
    {
     "data": {
      "text/plain": [
       "['e', 'a', 'e', 'e', 'a', 'i', 'i']"
      ]
     },
     "execution_count": 15,
     "metadata": {},
     "output_type": "execute_result"
    }
   ],
   "source": [
    "a='we are learning pwskills'\n",
    "v='aeiou'\n",
    "\n",
    "[i for i in a for j in v if i==j]"
   ]
  },
  {
   "cell_type": "markdown",
   "id": "0af25c08-d93f-40d5-9e16-be58624bcf89",
   "metadata": {},
   "source": [
    "# 30. Create a program that removes all non-numeric characters from a list of strings using list comprehension.\n"
   ]
  },
  {
   "cell_type": "code",
   "execution_count": 26,
   "id": "46edccf9-acb6-41a1-8e24-bd2c64b6b244",
   "metadata": {},
   "outputs": [
    {
     "data": {
      "text/plain": [
       "['w', 'e', 'l', 'e', 'a', 'r', 'n', 'i', 'n', 'g', 'i', 'n']"
      ]
     },
     "execution_count": 26,
     "metadata": {},
     "output_type": "execute_result"
    }
   ],
   "source": [
    "a='we learning in 2023'\n",
    "\n",
    "[i for i in a if i.isalpha()]"
   ]
  },
  {
   "cell_type": "markdown",
   "id": "9b3834e9-24d4-4d33-b671-e615b5807d50",
   "metadata": {},
   "source": [
    "# 31. Write a program to generate a list of prime numbers using the Sieve of Eratosthenes algorithm and list comprehension."
   ]
  },
  {
   "cell_type": "code",
   "execution_count": 30,
   "id": "f6c3f9b1-091b-4895-9e47-8ddd3cd9685e",
   "metadata": {},
   "outputs": [
    {
     "name": "stdin",
     "output_type": "stream",
     "text": [
      "Enter the number till which prime numbers are required:  50\n"
     ]
    },
    {
     "data": {
      "text/plain": [
       "[2, 3, 5, 7, 11, 13, 17, 19, 23, 29, 31, 37, 41, 43, 47]"
      ]
     },
     "execution_count": 30,
     "metadata": {},
     "output_type": "execute_result"
    }
   ],
   "source": [
    "a = int(input('Enter the number till which prime numbers are required: '))\n",
    "b = []\n",
    "\n",
    "[i for i in range(2, a) if all(i % j != 0 for j in range(2, i))]"
   ]
  },
  {
   "cell_type": "markdown",
   "id": "48667b5f-7eee-49ad-b798-1b8152e7e1f2",
   "metadata": {},
   "source": [
    "# 32. Create a program that generates a list of all Pythagorean triplets up to a specified limit using list comprehension."
   ]
  },
  {
   "cell_type": "code",
   "execution_count": 33,
   "id": "f9608f7d-3c33-4fa8-a0c1-6a00eafb5c44",
   "metadata": {},
   "outputs": [
    {
     "name": "stdin",
     "output_type": "stream",
     "text": [
      "limit upto pythagorean triplets required 10\n"
     ]
    },
    {
     "name": "stdout",
     "output_type": "stream",
     "text": [
      "a= 1 b= -0.25 c= 1.25\n",
      "a= 2 b= 0.0 c= 2.0\n",
      "a= 3 b= 1.75 c= 3.25\n",
      "a= 4 b= 3.0 c= 5.0\n",
      "a= 5 b= 5.75 c= 7.25\n",
      "a= 6 b= 8.0 c= 10.0\n",
      "a= 7 b= 11.75 c= 13.25\n",
      "a= 8 b= 15.0 c= 17.0\n",
      "a= 9 b= 19.75 c= 21.25\n",
      "a= 10 b= 24.0 c= 26.0\n"
     ]
    }
   ],
   "source": [
    "a=int(input('limit upto pythagorean triplets required'))\n",
    "\n",
    "for i in range(1,a+1):\n",
    "    if i%2==0:\n",
    "        print('a=',i,'b=',(i/2)**2-1,'c=',(i/2)**2+1)\n",
    "    else:\n",
    "        print('a=',i,'b=',(i/2)**2-0.5,'c=',(i/2)**2+1)\n"
   ]
  },
  {
   "cell_type": "markdown",
   "id": "318b58f0-6a8f-4ea8-aae1-b61ae2781098",
   "metadata": {},
   "source": [
    "# 33. Develop a program that generates a list of all possible combinations of two lists using list comprehension."
   ]
  },
  {
   "cell_type": "code",
   "execution_count": 16,
   "id": "252b764a-0f50-4bab-88a8-9dbd5c3205da",
   "metadata": {},
   "outputs": [
    {
     "data": {
      "text/plain": [
       "[((1, 'a'), ('a', 1)),\n",
       " ((1, 'b'), ('b', 1)),\n",
       " ((1, 'c'), ('c', 1)),\n",
       " ((1, 'd'), ('d', 1)),\n",
       " ((1, 'e'), ('e', 1)),\n",
       " ((1, 'f'), ('f', 1)),\n",
       " ((2, 'a'), ('a', 2)),\n",
       " ((2, 'b'), ('b', 2)),\n",
       " ((2, 'c'), ('c', 2)),\n",
       " ((2, 'd'), ('d', 2)),\n",
       " ((2, 'e'), ('e', 2)),\n",
       " ((2, 'f'), ('f', 2)),\n",
       " ((3, 'a'), ('a', 3)),\n",
       " ((3, 'b'), ('b', 3)),\n",
       " ((3, 'c'), ('c', 3)),\n",
       " ((3, 'd'), ('d', 3)),\n",
       " ((3, 'e'), ('e', 3)),\n",
       " ((3, 'f'), ('f', 3)),\n",
       " ((4, 'a'), ('a', 4)),\n",
       " ((4, 'b'), ('b', 4)),\n",
       " ((4, 'c'), ('c', 4)),\n",
       " ((4, 'd'), ('d', 4)),\n",
       " ((4, 'e'), ('e', 4)),\n",
       " ((4, 'f'), ('f', 4)),\n",
       " ((5, 'a'), ('a', 5)),\n",
       " ((5, 'b'), ('b', 5)),\n",
       " ((5, 'c'), ('c', 5)),\n",
       " ((5, 'd'), ('d', 5)),\n",
       " ((5, 'e'), ('e', 5)),\n",
       " ((5, 'f'), ('f', 5)),\n",
       " ((6, 'a'), ('a', 6)),\n",
       " ((6, 'b'), ('b', 6)),\n",
       " ((6, 'c'), ('c', 6)),\n",
       " ((6, 'd'), ('d', 6)),\n",
       " ((6, 'e'), ('e', 6)),\n",
       " ((6, 'f'), ('f', 6)),\n",
       " ((7, 'a'), ('a', 7)),\n",
       " ((7, 'b'), ('b', 7)),\n",
       " ((7, 'c'), ('c', 7)),\n",
       " ((7, 'd'), ('d', 7)),\n",
       " ((7, 'e'), ('e', 7)),\n",
       " ((7, 'f'), ('f', 7))]"
      ]
     },
     "execution_count": 16,
     "metadata": {},
     "output_type": "execute_result"
    }
   ],
   "source": [
    "a=[1,2,3,4,5,6,7]\n",
    "b=['a','b','c','d','e','f']\n",
    "c=[]\n",
    "\n",
    "[((a[i],b[j]),(b[j],a[i])) for i in range(len(a)) for j in range(len(b))]"
   ]
  },
  {
   "cell_type": "markdown",
   "id": "9168b6e4-5d19-4ec5-8869-f557aa1bbd66",
   "metadata": {},
   "source": [
    "# 34. Write a program that calculates the mean, median, and mode of a list of numbers using list comprehension."
   ]
  },
  {
   "cell_type": "code",
   "execution_count": 21,
   "id": "f6395f9a-f097-4740-9b94-22e99a4e685e",
   "metadata": {},
   "outputs": [
    {
     "data": {
      "text/plain": [
       "[4.615384615384615, 4, 5]"
      ]
     },
     "execution_count": 21,
     "metadata": {},
     "output_type": "execute_result"
    }
   ],
   "source": [
    "a=[1,2,3,3,4,5,5,5,5,6,6,7,8]\n",
    "\n",
    "[sum(a)/len(a),sum(a)//len(a),max(a,key=a.count)]"
   ]
  },
  {
   "cell_type": "markdown",
   "id": "32a1ee0d-807f-4b63-9782-67939c29b547",
   "metadata": {},
   "source": [
    "# 35. Create a program that generates Pascal's triangle up to a specified number of rows using list comprehension."
   ]
  },
  {
   "cell_type": "code",
   "execution_count": 39,
   "id": "fda5eebc-4277-4057-a40d-69d1a32725d9",
   "metadata": {},
   "outputs": [
    {
     "name": "stdin",
     "output_type": "stream",
     "text": [
      "Enter the number of rows for Pascals Triangle:  10\n"
     ]
    },
    {
     "name": "stdout",
     "output_type": "stream",
     "text": [
      "[1]\n",
      "[1, 1]\n",
      "[1, 2, 1]\n",
      "[1, 3, 3, 1]\n",
      "[1, 4, 6, 4, 1]\n",
      "[1, 5, 10, 10, 5, 1]\n",
      "[1, 6, 15, 20, 15, 6, 1]\n",
      "[1, 7, 21, 35, 35, 21, 7, 1]\n",
      "[1, 8, 28, 56, 70, 56, 28, 8, 1]\n",
      "[1, 9, 36, 84, 126, 126, 84, 36, 9, 1]\n"
     ]
    }
   ],
   "source": [
    "n = int(input('Enter the number of rows for Pascals Triangle: '))\n",
    "pascal_triangle = []\n",
    "\n",
    "for line in range(1, n + 1):\n",
    "    row = [1]\n",
    "    if pascal_triangle:\n",
    "        last_row = pascal_triangle[-1]\n",
    "        for i in range(len(last_row) - 1):\n",
    "            row.append(last_row[i] + last_row[i + 1])\n",
    "        row.append(1)\n",
    "    pascal_triangle.append(row)\n",
    "    \n",
    "for row in pascal_triangle:\n",
    "    print(row)"
   ]
  },
  {
   "cell_type": "markdown",
   "id": "b61869d1-bfa8-4ba6-98df-044c9d03ca92",
   "metadata": {},
   "source": [
    "# 36. Develop a program that calculates the sum of the digits of a factorial of numbers from 1 to 5 using list comprehension."
   ]
  },
  {
   "cell_type": "code",
   "execution_count": 60,
   "id": "e756526d-5580-4322-b7d4-04a8edd7d0ef",
   "metadata": {},
   "outputs": [
    {
     "name": "stdout",
     "output_type": "stream",
     "text": [
      "18\n"
     ]
    }
   ],
   "source": [
    "a=list(range(1,6))\n",
    "b=1\n",
    "c=[]\n",
    "for i in a:\n",
    "    b=b*i\n",
    "    if b>0:\n",
    "        o=b//100\n",
    "        h=b%10\n",
    "        t=b%100//10\n",
    "        c.append(o)\n",
    "        c.append(t)\n",
    "        c.append(h)\n",
    "print(sum(c))"
   ]
  },
  {
   "cell_type": "markdown",
   "id": "0c1afe45-e324-4f54-b844-4fd2788e7ee0",
   "metadata": {},
   "source": [
    "# 37. Write a program that finds the longest word in a sentence using list comprehension."
   ]
  },
  {
   "cell_type": "code",
   "execution_count": 22,
   "id": "890aec94-d694-4d27-aede-218580a1eb7e",
   "metadata": {},
   "outputs": [
    {
     "data": {
      "text/plain": [
       "['learning']"
      ]
     },
     "execution_count": 22,
     "metadata": {},
     "output_type": "execute_result"
    }
   ],
   "source": [
    "a='we are learning python with pwskills'\n",
    "\n",
    "[max(a.split(),key=len)]"
   ]
  },
  {
   "cell_type": "markdown",
   "id": "7a374b83-6639-4d67-b17d-01f9a263a2c5",
   "metadata": {},
   "source": [
    "# 38. Create a program that filters a list of strings to include only those with more than three vowels using list comprehension."
   ]
  },
  {
   "cell_type": "code",
   "execution_count": 32,
   "id": "2f9bff14-0c2d-4bbb-a264-17fc159e6df5",
   "metadata": {},
   "outputs": [
    {
     "name": "stdout",
     "output_type": "stream",
     "text": [
      "learning\n"
     ]
    }
   ],
   "source": [
    "a='we are learning python with pwskills'\n",
    "v='aeiou'\n",
    "b=[]\n",
    "\n",
    "for i in a.split():\n",
    "    for j in i:\n",
    "        for k in v:\n",
    "            if k==j:\n",
    "                b.append(i)\n",
    "                if (b.count(i)==3):\n",
    "                    print(i)"
   ]
  },
  {
   "cell_type": "markdown",
   "id": "e6dee81e-f6f4-4be8-9cd5-09ad3b89d8fc",
   "metadata": {},
   "source": [
    "# 39. Develop a program that calculates the sum of the digits of numbers from 1 to 1000 using list comprehension."
   ]
  },
  {
   "cell_type": "code",
   "execution_count": 74,
   "id": "d814c05f-bece-4fe5-9888-698c4811756a",
   "metadata": {},
   "outputs": [
    {
     "name": "stdout",
     "output_type": "stream",
     "text": [
      "13510\n"
     ]
    }
   ],
   "source": [
    "b=[]\n",
    "\n",
    "for i in range (1,1001):\n",
    "    h=i//100\n",
    "    ho=i%10\n",
    "    ht=(i%100)//10\n",
    "    b.append(h)\n",
    "    b.append(ho)\n",
    "    b.append(ht)\n",
    "print(sum(b))"
   ]
  },
  {
   "cell_type": "markdown",
   "id": "62fd5cb5-536f-465b-800e-131a72a87ff5",
   "metadata": {},
   "source": [
    "# 40. Write a program that generates a list of prime palindromic numbers using list comprehension."
   ]
  },
  {
   "cell_type": "code",
   "execution_count": 22,
   "id": "fdcf2698-5894-4ac8-b483-75b61764b48e",
   "metadata": {},
   "outputs": [
    {
     "name": "stdin",
     "output_type": "stream",
     "text": [
      "enter starting range 1\n",
      "enter starting range 1000\n"
     ]
    },
    {
     "name": "stdout",
     "output_type": "stream",
     "text": [
      "[1, 2, 3, 5, 7, 11, 101, 131, 151, 181, 191, 313, 353, 373, 383, 727, 757, 787, 797, 919, 929]\n"
     ]
    }
   ],
   "source": [
    "a=int(input('enter starting range'))\n",
    "b=int(input('enter starting range'))\n",
    "d=[]\n",
    "\n",
    "\n",
    "for j in range(a,b+1):\n",
    "    for i in range(2,j-1):\n",
    "        if j%i==0:\n",
    "            break\n",
    "    else:\n",
    "        if str(j)==str(j)[::-1]:\n",
    "            d.append(j)\n",
    "print(d)"
   ]
  },
  {
   "cell_type": "code",
   "execution_count": 27,
   "id": "553515dc-4932-4bea-98a7-8acbc271ad0b",
   "metadata": {},
   "outputs": [
    {
     "name": "stdin",
     "output_type": "stream",
     "text": [
      "enter starting range 1\n",
      "enter starting range 1000\n"
     ]
    },
    {
     "data": {
      "text/plain": [
       "[1,\n",
       " 2,\n",
       " 3,\n",
       " 5,\n",
       " 7,\n",
       " 11,\n",
       " 101,\n",
       " 131,\n",
       " 151,\n",
       " 181,\n",
       " 191,\n",
       " 313,\n",
       " 353,\n",
       " 373,\n",
       " 383,\n",
       " 727,\n",
       " 757,\n",
       " 787,\n",
       " 797,\n",
       " 919,\n",
       " 929]"
      ]
     },
     "execution_count": 27,
     "metadata": {},
     "output_type": "execute_result"
    }
   ],
   "source": [
    "a=int(input('enter starting range'))\n",
    "b=int(input('enter starting range'))\n",
    "[j for j in range(a, b + 1) if all(j % i != 0 for i in range(2, j)) and str(j) == str(j)[::-1]]"
   ]
  },
  {
   "cell_type": "code",
   "execution_count": null,
   "id": "604d1b09-6009-43a9-a9f1-3463becf4c55",
   "metadata": {},
   "outputs": [],
   "source": []
  }
 ],
 "metadata": {
  "kernelspec": {
   "display_name": "Python 3 (ipykernel)",
   "language": "python",
   "name": "python3"
  },
  "language_info": {
   "codemirror_mode": {
    "name": "ipython",
    "version": 3
   },
   "file_extension": ".py",
   "mimetype": "text/x-python",
   "name": "python",
   "nbconvert_exporter": "python",
   "pygments_lexer": "ipython3",
   "version": "3.10.8"
  }
 },
 "nbformat": 4,
 "nbformat_minor": 5
}
